{
 "cells": [
  {
   "cell_type": "markdown",
   "metadata": {},
   "source": [
    "# Python para finanças - alocação e otimização de portfólios"
   ]
  },
  {
   "cell_type": "markdown",
   "metadata": {},
   "source": [
    "### Importação das bibliotecas e base de dados"
   ]
  },
  {
   "cell_type": "code",
   "execution_count": 3,
   "metadata": {},
   "outputs": [],
   "source": [
    "import pandas as pd \n",
    "import numpy as np \n",
    "import matplotlib.pyplot as plt \n",
    "import plotly.express as px "
   ]
  },
  {
   "cell_type": "code",
   "execution_count": 4,
   "metadata": {},
   "outputs": [
    {
     "data": {
      "text/html": [
       "<div>\n",
       "<style scoped>\n",
       "    .dataframe tbody tr th:only-of-type {\n",
       "        vertical-align: middle;\n",
       "    }\n",
       "\n",
       "    .dataframe tbody tr th {\n",
       "        vertical-align: top;\n",
       "    }\n",
       "\n",
       "    .dataframe thead th {\n",
       "        text-align: right;\n",
       "    }\n",
       "</style>\n",
       "<table border=\"1\" class=\"dataframe\">\n",
       "  <thead>\n",
       "    <tr style=\"text-align: right;\">\n",
       "      <th></th>\n",
       "      <th>Date</th>\n",
       "      <th>AMBV</th>\n",
       "      <th>ODONT</th>\n",
       "      <th>VIVO</th>\n",
       "      <th>PETRO</th>\n",
       "      <th>BBRAS</th>\n",
       "      <th>BOVA</th>\n",
       "    </tr>\n",
       "  </thead>\n",
       "  <tbody>\n",
       "    <tr>\n",
       "      <th>0</th>\n",
       "      <td>2015-01-02</td>\n",
       "      <td>16.020000</td>\n",
       "      <td>9.37</td>\n",
       "      <td>37.820000</td>\n",
       "      <td>9.360000</td>\n",
       "      <td>22.650000</td>\n",
       "      <td>47.259998</td>\n",
       "    </tr>\n",
       "    <tr>\n",
       "      <th>1</th>\n",
       "      <td>2015-01-05</td>\n",
       "      <td>15.730000</td>\n",
       "      <td>9.62</td>\n",
       "      <td>37.070000</td>\n",
       "      <td>8.560000</td>\n",
       "      <td>22.180000</td>\n",
       "      <td>46.320000</td>\n",
       "    </tr>\n",
       "    <tr>\n",
       "      <th>2</th>\n",
       "      <td>2015-01-06</td>\n",
       "      <td>16.330000</td>\n",
       "      <td>9.55</td>\n",
       "      <td>36.150002</td>\n",
       "      <td>8.280000</td>\n",
       "      <td>22.490000</td>\n",
       "      <td>46.580002</td>\n",
       "    </tr>\n",
       "    <tr>\n",
       "      <th>3</th>\n",
       "      <td>2015-01-07</td>\n",
       "      <td>16.559999</td>\n",
       "      <td>9.69</td>\n",
       "      <td>37.389999</td>\n",
       "      <td>8.670000</td>\n",
       "      <td>23.480000</td>\n",
       "      <td>48.150002</td>\n",
       "    </tr>\n",
       "    <tr>\n",
       "      <th>4</th>\n",
       "      <td>2015-01-08</td>\n",
       "      <td>16.540001</td>\n",
       "      <td>9.66</td>\n",
       "      <td>38.910000</td>\n",
       "      <td>9.230000</td>\n",
       "      <td>23.559999</td>\n",
       "      <td>48.509998</td>\n",
       "    </tr>\n",
       "    <tr>\n",
       "      <th>...</th>\n",
       "      <td>...</td>\n",
       "      <td>...</td>\n",
       "      <td>...</td>\n",
       "      <td>...</td>\n",
       "      <td>...</td>\n",
       "      <td>...</td>\n",
       "      <td>...</td>\n",
       "    </tr>\n",
       "    <tr>\n",
       "      <th>1421</th>\n",
       "      <td>2020-10-27</td>\n",
       "      <td>13.720000</td>\n",
       "      <td>14.00</td>\n",
       "      <td>43.480000</td>\n",
       "      <td>19.879999</td>\n",
       "      <td>32.779999</td>\n",
       "      <td>95.680000</td>\n",
       "    </tr>\n",
       "    <tr>\n",
       "      <th>1422</th>\n",
       "      <td>2020-10-28</td>\n",
       "      <td>13.370000</td>\n",
       "      <td>12.97</td>\n",
       "      <td>42.610001</td>\n",
       "      <td>18.670000</td>\n",
       "      <td>31.139999</td>\n",
       "      <td>91.559998</td>\n",
       "    </tr>\n",
       "    <tr>\n",
       "      <th>1423</th>\n",
       "      <td>2020-10-29</td>\n",
       "      <td>12.890000</td>\n",
       "      <td>12.84</td>\n",
       "      <td>42.250000</td>\n",
       "      <td>19.290001</td>\n",
       "      <td>30.959999</td>\n",
       "      <td>92.800003</td>\n",
       "    </tr>\n",
       "    <tr>\n",
       "      <th>1424</th>\n",
       "      <td>2020-10-30</td>\n",
       "      <td>12.180000</td>\n",
       "      <td>12.61</td>\n",
       "      <td>42.669998</td>\n",
       "      <td>18.940001</td>\n",
       "      <td>29.799999</td>\n",
       "      <td>90.660004</td>\n",
       "    </tr>\n",
       "    <tr>\n",
       "      <th>1425</th>\n",
       "      <td>2020-11-03</td>\n",
       "      <td>12.780000</td>\n",
       "      <td>12.39</td>\n",
       "      <td>42.310001</td>\n",
       "      <td>19.650000</td>\n",
       "      <td>30.100000</td>\n",
       "      <td>92.260002</td>\n",
       "    </tr>\n",
       "  </tbody>\n",
       "</table>\n",
       "<p>1426 rows × 7 columns</p>\n",
       "</div>"
      ],
      "text/plain": [
       "            Date       AMBV  ODONT       VIVO      PETRO      BBRAS       BOVA\n",
       "0     2015-01-02  16.020000   9.37  37.820000   9.360000  22.650000  47.259998\n",
       "1     2015-01-05  15.730000   9.62  37.070000   8.560000  22.180000  46.320000\n",
       "2     2015-01-06  16.330000   9.55  36.150002   8.280000  22.490000  46.580002\n",
       "3     2015-01-07  16.559999   9.69  37.389999   8.670000  23.480000  48.150002\n",
       "4     2015-01-08  16.540001   9.66  38.910000   9.230000  23.559999  48.509998\n",
       "...          ...        ...    ...        ...        ...        ...        ...\n",
       "1421  2020-10-27  13.720000  14.00  43.480000  19.879999  32.779999  95.680000\n",
       "1422  2020-10-28  13.370000  12.97  42.610001  18.670000  31.139999  91.559998\n",
       "1423  2020-10-29  12.890000  12.84  42.250000  19.290001  30.959999  92.800003\n",
       "1424  2020-10-30  12.180000  12.61  42.669998  18.940001  29.799999  90.660004\n",
       "1425  2020-11-03  12.780000  12.39  42.310001  19.650000  30.100000  92.260002\n",
       "\n",
       "[1426 rows x 7 columns]"
      ]
     },
     "execution_count": 4,
     "metadata": {},
     "output_type": "execute_result"
    }
   ],
   "source": [
    "dataset = pd.read_csv('acoes.csv')\n",
    "dataset"
   ]
  },
  {
   "cell_type": "markdown",
   "metadata": {},
   "source": [
    "### Alocação aleatória de ativos"
   ]
  },
  {
   "cell_type": "code",
   "execution_count": 10,
   "metadata": {},
   "outputs": [],
   "source": [
    "def alocacao_ativos(dataset, dinheiro_total):\n",
    "    dataset = dataset.copy()\n",
    "\n",
    "    pesos = np.random.random(len(dataset.columns) - 1)\n",
    "    # print(pesos, pesos.sum()) -> valor maior que 1.0\n",
    "    pesos = pesos / pesos.sum() # normalização\n",
    "    print(pesos, pesos.sum())"
   ]
  },
  {
   "cell_type": "code",
   "execution_count": 13,
   "metadata": {},
   "outputs": [
    {
     "name": "stdout",
     "output_type": "stream",
     "text": [
      "[0.1995396  0.31879053 0.01538828 0.05415304 0.318136   0.09399255] 1.0\n"
     ]
    }
   ],
   "source": [
    "# Chamando a função para definir os pesos aleatóriamente\n",
    "alocacao_ativos(pd.read_csv('acoes.csv'), 5000)"
   ]
  }
 ],
 "metadata": {
  "kernelspec": {
   "display_name": "Python 3",
   "language": "python",
   "name": "python3"
  },
  "language_info": {
   "codemirror_mode": {
    "name": "ipython",
    "version": 3
   },
   "file_extension": ".py",
   "mimetype": "text/x-python",
   "name": "python",
   "nbconvert_exporter": "python",
   "pygments_lexer": "ipython3",
   "version": "3.11.5"
  }
 },
 "nbformat": 4,
 "nbformat_minor": 2
}
